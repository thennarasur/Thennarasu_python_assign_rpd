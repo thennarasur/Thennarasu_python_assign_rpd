{
 "cells": [
  {
   "cell_type": "code",
   "execution_count": 3,
   "id": "unusual-original",
   "metadata": {},
   "outputs": [],
   "source": [
    "# Libraries\n",
    "from selenium import webdriver\n",
    "from selenium.webdriver.common.by import By\n",
    "from selenium.webdriver.support.ui import Select\n",
    "from selenium.webdriver.support.ui import WebDriverWait"
   ]
  },
  {
   "cell_type": "code",
   "execution_count": 17,
   "id": "differential-begin",
   "metadata": {},
   "outputs": [],
   "source": [
    "# Get to Zacks website\n",
    "url='https://www.zacks.com/screening/stock-screener?icid=screening-screening-nav_tracking-zcom-main_menu_wrapper-stock_screener'\n",
    "driver= webdriver.Chrome(executable_path='C:\\Webdrivers\\chromedriver.exe')\n",
    "driver.maximize_window()\n",
    "driver.get(url)\n",
    "driver.implicitly_wait(20)"
   ]
  },
  {
   "cell_type": "code",
   "execution_count": 9,
   "id": "athletic-butler",
   "metadata": {},
   "outputs": [],
   "source": [
    "# Login to the account using Javascript Executor\n",
    "driver.execute_script(\"document.getElementsByClassName('mobile_login_box');\")\n",
    "driver.implicitly_wait(5)\n",
    "driver.execute_script(\"document.getElementById('username').value='laboc57506@ampswipe.com' \")\n",
    "driver.execute_script(\"document.getElementById('password').value='msJ$eb8EJu72@Bj' \")\n",
    "driver.execute_script(\"document.getElementsByClassName('fancy_button green')[0].click();\")\n",
    "driver.implicitly_wait(10)"
   ]
  },
  {
   "cell_type": "code",
   "execution_count": 12,
   "id": "cubic-authentication",
   "metadata": {},
   "outputs": [],
   "source": [
    "# Run tickers by switching to another frame in the page\n",
    "driver.switch_to.frame('screenerContent')\n",
    "driver.implicitly_wait(10)\n",
    "driver.find_element(By.ID,'my-screen-tab').click()\n",
    "driver.implicitly_wait(10)\n",
    "driver.find_element(By.ID,'btn_run_162817').click()\n",
    "driver.implicitly_wait(10)"
   ]
  },
  {
   "cell_type": "code",
   "execution_count": 16,
   "id": "beneficial-operator",
   "metadata": {},
   "outputs": [],
   "source": [
    "# Select all tickers and download as csv file\n",
    "driver.find_element(By.ID,'select_all_tickers').click()\n",
    "driver.implicitly_wait(10)\n",
    "driver.find_element(By.XPATH,'//*[@id=\"screener_table_wrapper\"]/div[1]/a[1]').click()"
   ]
  }
 ],
 "metadata": {
  "kernelspec": {
   "display_name": "Python 3",
   "language": "python",
   "name": "python3"
  },
  "language_info": {
   "codemirror_mode": {
    "name": "ipython",
    "version": 3
   },
   "file_extension": ".py",
   "mimetype": "text/x-python",
   "name": "python",
   "nbconvert_exporter": "python",
   "pygments_lexer": "ipython3",
   "version": "3.7.6"
  }
 },
 "nbformat": 4,
 "nbformat_minor": 5
}
